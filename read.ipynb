{
 "cells": [
  {
   "cell_type": "code",
   "execution_count": 2,
   "metadata": {},
   "outputs": [],
   "source": [
    "import csv\n",
    "import nltk\n",
    "from nltk.tokenize import sent_tokenize\n",
    "import random\n",
    "\n",
    "# Sample paragraphs\n",
    "paragraphs = \"\"\"\n",
    "A virtual machine (VM) is a software-based emulation of a physical computer that operates within another computer. It allows users to run multiple operating systems (OS) simultaneously on a single physical machine. VMs are created using virtualization software, which partitions the resources of a physical server into several virtual environments, each with its own OS and applications.\n",
    "\n",
    "One of the key benefits of virtual machines is their ability to consolidate multiple servers onto a single physical hardware platform, leading to significant cost savings in terms of hardware procurement, power consumption, and space requirements. Additionally, VMs provide greater flexibility and scalability, allowing users to easily provision, modify, and manage virtualized resources according to changing business needs.\n",
    "\n",
    "Furthermore, virtual machines offer enhanced security and isolation, as each VM operates independently of others on the same physical server. This isolation helps prevent the spread of malware and ensures that any issues within one VM do not affect the operation of others. Overall, virtual machines play a crucial role in modern computing environments by enabling efficient resource utilization, improved flexibility, and robust security measures.\n",
    "\"\"\"\n",
    "\n",
    "# Step 1: Extract relevant sentences\n",
    "sentences = sent_tokenize(paragraphs)\n",
    "\n",
    "# Step 2: Formulate questions\n",
    "questions = [sentence for sentence in sentences if len(sentence.split()) > 10]  # Filter sentences with sufficient length\n",
    "\n",
    "# Step 3: Assign random options from additional sentences\n",
    "num_options = 4\n",
    "questions_with_options = []\n",
    "for question in questions:\n",
    "    options = random.sample([option for option in sentences if option != question], num_options)\n",
    "    questions_with_options.append((question, options))\n",
    "\n",
    "# Step 4: Write to CSV\n",
    "with open('objective_questions.csv', 'w', newline='') as csvfile:\n",
    "    writer = csv.writer(csvfile)\n",
    "\n",
    "    # Write data without column names\n",
    "    for idx, (question, options) in enumerate(questions_with_options, start=1):\n",
    "        correct_option = random.choice(['A', 'B', 'C', 'D'])\n",
    "        writer.writerow([idx, question, *options, correct_option, 1])  # Assuming each question has the same marks\n"
   ]
  },
  {
   "cell_type": "code",
   "execution_count": null,
   "metadata": {},
   "outputs": [],
   "source": []
  }
 ],
 "metadata": {
  "kernelspec": {
   "display_name": "Python 3",
   "language": "python",
   "name": "python3"
  },
  "language_info": {
   "codemirror_mode": {
    "name": "ipython",
    "version": 3
   },
   "file_extension": ".py",
   "mimetype": "text/x-python",
   "name": "python",
   "nbconvert_exporter": "python",
   "pygments_lexer": "ipython3",
   "version": "3.11.2"
  }
 },
 "nbformat": 4,
 "nbformat_minor": 2
}
