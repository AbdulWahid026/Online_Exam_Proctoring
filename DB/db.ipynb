{
 "cells": [
  {
   "cell_type": "code",
   "execution_count": 1,
   "metadata": {},
   "outputs": [],
   "source": [
    "import sqlite3\n",
    "\n",
    "# Connect to the SQLite database\n",
    "conn = sqlite3.connect('data.db')\n",
    "\n",
    "# Create a cursor object to execute SQL queries\n",
    "cur = conn.cursor()\n",
    "\n",
    "# Define the SQL query to create a new table\n",
    "create_table_query = '''\n",
    "CREATE TABLE IF NOT EXISTS `window_estimation_log` (\n",
    "  `wid` INTEGER PRIMARY KEY AUTOINCREMENT,\n",
    "  `email` TEXT NOT NULL,\n",
    "  `test_id` TEXT NOT NULL,\n",
    "  `name` TEXT NOT NULL,\n",
    "  `window_event` INTEGER NOT NULL,\n",
    "  `uid` INTEGER NOT NULL\n",
    ");\n",
    "\n",
    "'''\n",
    "\n",
    "\n",
    "# Execute the SQL query to create the new table\n",
    "cur.execute(create_table_query)\n",
    "\n",
    "# Commit the changes\n",
    "conn.commit()\n",
    "\n",
    "# Close the cursor and the connection\n",
    "cur.close()\n",
    "conn.close()\n"
   ]
  },
  {
   "cell_type": "code",
   "execution_count": 2,
   "metadata": {},
   "outputs": [],
   "source": [
    "import sqlite3\n",
    "\n",
    "# Connect to the SQLite database\n",
    "conn = sqlite3.connect('data.db')\n",
    "\n",
    "# Create a cursor object to execute SQL queries\n",
    "cur = conn.cursor()\n",
    "\n",
    "# Define the email for which you want to delete the row\n",
    "email_to_delete = 'proctorai2121@gmail.com'  # Replace with the email you want to delete\n",
    "\n",
    "# Define the SQL query to delete a row based on the email condition\n",
    "delete_row_query = '''\n",
    "DELETE FROM `Users`\n",
    "WHERE email = ?;\n",
    "'''\n",
    "\n",
    "# Execute the SQL query\n",
    "cur.execute(delete_row_query, (email_to_delete,))\n",
    "\n",
    "# Commit the changes\n",
    "conn.commit()\n",
    "\n",
    "# Close the cursor and the connection\n",
    "cur.close()\n",
    "conn.close()\n"
   ]
  },
  {
   "cell_type": "code",
   "execution_count": null,
   "metadata": {},
   "outputs": [],
   "source": []
  }
 ],
 "metadata": {
  "kernelspec": {
   "display_name": "Python 3",
   "language": "python",
   "name": "python3"
  },
  "language_info": {
   "codemirror_mode": {
    "name": "ipython",
    "version": 3
   },
   "file_extension": ".py",
   "mimetype": "text/x-python",
   "name": "python",
   "nbconvert_exporter": "python",
   "pygments_lexer": "ipython3",
   "version": "3.11.2"
  }
 },
 "nbformat": 4,
 "nbformat_minor": 2
}
